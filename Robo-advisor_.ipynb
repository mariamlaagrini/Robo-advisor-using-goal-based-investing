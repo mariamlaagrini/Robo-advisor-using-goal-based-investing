{
  "nbformat": 4,
  "nbformat_minor": 0,
  "metadata": {
    "colab": {
      "provenance": [],
      "include_colab_link": true
    },
    "kernelspec": {
      "name": "python3",
      "display_name": "Python 3"
    },
    "language_info": {
      "name": "python"
    }
  },
  "cells": [
    {
      "cell_type": "markdown",
      "metadata": {
        "id": "view-in-github",
        "colab_type": "text"
      },
      "source": [
        "<a href=\"https://colab.research.google.com/github/mariamlaagrini/Robo-advisor-using-goal-based-investing/blob/main/Robo-advisor_.ipynb\" target=\"_parent\"><img src=\"https://colab.research.google.com/assets/colab-badge.svg\" alt=\"Open In Colab\"/></a>"
      ]
    },
    {
      "source": [
        "!pip install PyPortfolioOpt==1.5.2"
      ],
      "cell_type": "code",
      "metadata": {
        "colab": {
          "base_uri": "https://localhost:8080/"
        },
        "id": "u_hF77PA1Klx",
        "outputId": "db2dc0ad-f339-417e-f79d-2fe4f9670aa9"
      },
      "execution_count": null,
      "outputs": [
        {
          "output_type": "stream",
          "name": "stdout",
          "text": [
            "Requirement already satisfied: PyPortfolioOpt==1.5.2 in /usr/local/lib/python3.11/dist-packages (1.5.2)\n",
            "Requirement already satisfied: cvxpy<2.0.0,>=1.1.10 in /usr/local/lib/python3.11/dist-packages (from PyPortfolioOpt==1.5.2) (1.6.0)\n",
            "Requirement already satisfied: numpy<2.0,>=1.12 in /usr/local/lib/python3.11/dist-packages (from PyPortfolioOpt==1.5.2) (1.26.4)\n",
            "Requirement already satisfied: pandas>=0.19 in /usr/local/lib/python3.11/dist-packages (from PyPortfolioOpt==1.5.2) (2.2.2)\n",
            "Requirement already satisfied: scipy<2.0,>=1.3 in /usr/local/lib/python3.11/dist-packages (from PyPortfolioOpt==1.5.2) (1.13.1)\n",
            "Requirement already satisfied: osqp>=0.6.2 in /usr/local/lib/python3.11/dist-packages (from cvxpy<2.0.0,>=1.1.10->PyPortfolioOpt==1.5.2) (0.6.7.post3)\n",
            "Requirement already satisfied: clarabel>=0.5.0 in /usr/local/lib/python3.11/dist-packages (from cvxpy<2.0.0,>=1.1.10->PyPortfolioOpt==1.5.2) (0.9.0)\n",
            "Requirement already satisfied: scs>=3.2.4.post1 in /usr/local/lib/python3.11/dist-packages (from cvxpy<2.0.0,>=1.1.10->PyPortfolioOpt==1.5.2) (3.2.7.post2)\n",
            "Requirement already satisfied: python-dateutil>=2.8.2 in /usr/local/lib/python3.11/dist-packages (from pandas>=0.19->PyPortfolioOpt==1.5.2) (2.8.2)\n",
            "Requirement already satisfied: pytz>=2020.1 in /usr/local/lib/python3.11/dist-packages (from pandas>=0.19->PyPortfolioOpt==1.5.2) (2024.2)\n",
            "Requirement already satisfied: tzdata>=2022.7 in /usr/local/lib/python3.11/dist-packages (from pandas>=0.19->PyPortfolioOpt==1.5.2) (2024.2)\n",
            "Requirement already satisfied: qdldl in /usr/local/lib/python3.11/dist-packages (from osqp>=0.6.2->cvxpy<2.0.0,>=1.1.10->PyPortfolioOpt==1.5.2) (0.1.7.post5)\n",
            "Requirement already satisfied: six>=1.5 in /usr/local/lib/python3.11/dist-packages (from python-dateutil>=2.8.2->pandas>=0.19->PyPortfolioOpt==1.5.2) (1.17.0)\n"
          ]
        }
      ]
    },
    {
      "cell_type": "code",
      "source": [
        "!pip install yfinance\n",
        "import yfinance as yf"
      ],
      "metadata": {
        "colab": {
          "base_uri": "https://localhost:8080/"
        },
        "id": "vVeSuJPh0-Ud",
        "outputId": "8c7b3d67-25b2-42e4-974d-742e5c49a391"
      },
      "execution_count": null,
      "outputs": [
        {
          "output_type": "stream",
          "name": "stdout",
          "text": [
            "Requirement already satisfied: yfinance in /usr/local/lib/python3.11/dist-packages (0.2.51)\n",
            "Requirement already satisfied: pandas>=1.3.0 in /usr/local/lib/python3.11/dist-packages (from yfinance) (2.2.2)\n",
            "Requirement already satisfied: numpy>=1.16.5 in /usr/local/lib/python3.11/dist-packages (from yfinance) (1.26.4)\n",
            "Requirement already satisfied: requests>=2.31 in /usr/local/lib/python3.11/dist-packages (from yfinance) (2.32.3)\n",
            "Requirement already satisfied: multitasking>=0.0.7 in /usr/local/lib/python3.11/dist-packages (from yfinance) (0.0.11)\n",
            "Requirement already satisfied: lxml>=4.9.1 in /usr/local/lib/python3.11/dist-packages (from yfinance) (5.3.0)\n",
            "Requirement already satisfied: platformdirs>=2.0.0 in /usr/local/lib/python3.11/dist-packages (from yfinance) (4.3.6)\n",
            "Requirement already satisfied: pytz>=2022.5 in /usr/local/lib/python3.11/dist-packages (from yfinance) (2024.2)\n",
            "Requirement already satisfied: frozendict>=2.3.4 in /usr/local/lib/python3.11/dist-packages (from yfinance) (2.4.6)\n",
            "Requirement already satisfied: peewee>=3.16.2 in /usr/local/lib/python3.11/dist-packages (from yfinance) (3.17.8)\n",
            "Requirement already satisfied: beautifulsoup4>=4.11.1 in /usr/local/lib/python3.11/dist-packages (from yfinance) (4.12.3)\n",
            "Requirement already satisfied: html5lib>=1.1 in /usr/local/lib/python3.11/dist-packages (from yfinance) (1.1)\n",
            "Requirement already satisfied: soupsieve>1.2 in /usr/local/lib/python3.11/dist-packages (from beautifulsoup4>=4.11.1->yfinance) (2.6)\n",
            "Requirement already satisfied: six>=1.9 in /usr/local/lib/python3.11/dist-packages (from html5lib>=1.1->yfinance) (1.17.0)\n",
            "Requirement already satisfied: webencodings in /usr/local/lib/python3.11/dist-packages (from html5lib>=1.1->yfinance) (0.5.1)\n",
            "Requirement already satisfied: python-dateutil>=2.8.2 in /usr/local/lib/python3.11/dist-packages (from pandas>=1.3.0->yfinance) (2.8.2)\n",
            "Requirement already satisfied: tzdata>=2022.7 in /usr/local/lib/python3.11/dist-packages (from pandas>=1.3.0->yfinance) (2024.2)\n",
            "Requirement already satisfied: charset-normalizer<4,>=2 in /usr/local/lib/python3.11/dist-packages (from requests>=2.31->yfinance) (3.4.1)\n",
            "Requirement already satisfied: idna<4,>=2.5 in /usr/local/lib/python3.11/dist-packages (from requests>=2.31->yfinance) (3.10)\n",
            "Requirement already satisfied: urllib3<3,>=1.21.1 in /usr/local/lib/python3.11/dist-packages (from requests>=2.31->yfinance) (2.3.0)\n",
            "Requirement already satisfied: certifi>=2017.4.17 in /usr/local/lib/python3.11/dist-packages (from requests>=2.31->yfinance) (2024.12.14)\n"
          ]
        }
      ]
    },
    {
      "cell_type": "code",
      "source": [],
      "metadata": {
        "id": "7SpcHklLWQ1A"
      },
      "execution_count": null,
      "outputs": []
    },
    {
      "cell_type": "code",
      "source": [
        "if __name__ == \"__main__\":\n",
        "    print(\"Welcome to the Robo-Advisor!\")\n",
        "import pandas as pd\n",
        "import matplotlib.pyplot as plt\n",
        "from pypfopt.efficient_frontier import EfficientFrontier\n",
        "from pypfopt import risk_models, expected_returns\n",
        "import yfinance as yf\n",
        "from datetime import date\n",
        "class RiskQuestion:\n",
        "  def __init__(self, questionText, weight=1):\n",
        "    self.questionText = questionText\n",
        "    self.weight = weight\n",
        "    self.answers = []\n",
        "\n",
        "class RiskQuestionAnswer:\n",
        "  def __init__(self, answerText, score, selected=False):\n",
        "    self.answerText = answerText\n",
        "    self.score = score\n",
        "    self.selected = selected\n",
        "\n",
        "class RiskQuestionnaire:\n",
        "  def __init__(self):\n",
        "    self.questions = []\n",
        "    self.score = 0\n",
        "\n",
        "  def loadQuestionnaire(self, riskQuestionsFileName, riskAnswersFileName, type):\n",
        "\n",
        "    if not (type in [\"Tolerance\", \"Capacity\"]):\n",
        "            raise ValueError('Type must be Tolerance or Capacity.')\n",
        "\n",
        "    import pandas as pd\n",
        "    riskQuestions = pd.read_csv(riskQuestionsFileName).reset_index()\n",
        "    riskAnswers = pd.read_csv(riskAnswersFileName).reset_index()\n",
        "\n",
        "    if (type == \"Tolerance\"):\n",
        "      toleranceQuestions = riskQuestions[(riskQuestions['QuestionType'] == 'Tolerance')].reset_index()\n",
        "      for index, row in toleranceQuestions.iterrows():\n",
        "          self.questions.append(RiskQuestion(row['QuestionText'], row['QuestionWeight']))\n",
        "          answers = riskAnswers[(riskAnswers['QuestionID'] == row['QuestionID'])]\n",
        "          for indexA, rowA in answers.iterrows():\n",
        "                self.questions[index].answers.append(RiskQuestionAnswer(rowA['AnswerText'],rowA['AnswerValue']))\n",
        "    else:\n",
        "      capacityQuestions = riskQuestions[(riskQuestions['QuestionType'] == 'Capacity')].reset_index()\n",
        "      for index, row in capacityQuestions.iterrows():\n",
        "          self.questions.append(RiskQuestion(row['QuestionText'], row['QuestionWeight']))\n",
        "          answers = riskAnswers[(riskAnswers['QuestionID'] == row['QuestionID'])]\n",
        "          for indexA, rowA in answers.iterrows():\n",
        "                self.questions[index].answers.append(RiskQuestionAnswer(rowA['AnswerText'],rowA['AnswerValue']))\n",
        "\n",
        "\n",
        "  def answerQuestionnaire(self):\n",
        "    for i in range(len(self.questions)):\n",
        "      question = self.questions[i]\n",
        "      print(question.questionText)\n",
        "      for n in range(len(question.answers)):\n",
        "        answer = question.answers[n]\n",
        "        print(str(n) + \": \" + answer.answerText)\n",
        "      nChosen = int(input(\"Choose your answer between 0 and \" + str(len(question.answers)-1) + \": \"))\n",
        "      self.questions[i].answers[nChosen].selected = True\n",
        "      print(\"\\n\")\n",
        "\n",
        "  def calculateScore(self):\n",
        "    print(\"Risk Score:\")\n",
        "    myTotalScore = 0\n",
        "    for question in self.questions:\n",
        "      for answer in question.answers:\n",
        "        if (answer.selected == True):\n",
        "          myTotalScore = myTotalScore + (answer.score * question.weight)\n",
        "          print(answer.answerText + \": \" + str(answer.score * question.weight))\n",
        "    print(\"Total Risk Score: \" + str(myTotalScore) + \"\\n\")\n",
        "    self.score = myTotalScore\n",
        "\n",
        "class Allocation:\n",
        "  def __init__(self, ticker, percentage):\n",
        "    self.ticker = ticker\n",
        "    self.percentage = percentage\n",
        "\n",
        "class Portfolio:\n",
        "\n",
        "  def __init__(self, tickerString: str, expectedReturn: float, portfolioName: str, riskBucket: int):\n",
        "\n",
        "    self.name = portfolioName\n",
        "    self.riskBucket = riskBucket\n",
        "    self.expectedReturn = expectedReturn\n",
        "    self.allocations = []\n",
        "\n",
        "    from pypfopt.efficient_frontier import EfficientFrontier\n",
        "    from pypfopt import risk_models\n",
        "    from pypfopt import expected_returns\n",
        "\n",
        "    df = self.__getDailyPrices(tickerString, \"10y\")\n",
        "    if df.empty:\n",
        "            raise ValueError(\"No valid price data available for calculations.\")\n",
        "\n",
        "    mu = expected_returns.mean_historical_return(df)\n",
        "    S = risk_models.sample_cov(df)\n",
        "    max_return = mu.max()\n",
        "    if expectedReturn > max_return:\n",
        "            raise ValueError(f\"Target return {expectedReturn} exceeds maximum achievable return {max_return}.\")\n",
        "\n",
        "    ef = EfficientFrontier(mu, S)\n",
        "    try:\n",
        "        ef.efficient_return(expectedReturn)\n",
        "    except ValueError as e:\n",
        "       raise ValueError(f\"Failed to calculate portfolio: {e}\")\n",
        "\n",
        "    self.expectedRisk = ef.portfolio_performance()[1]\n",
        "    portfolioWeights = ef.clean_weights()\n",
        "\n",
        "    for key, value in portfolioWeights.items():\n",
        "      newAllocation = Allocation(key, value)\n",
        "      self.allocations.append(newAllocation)\n",
        "\n",
        "  def __getDailyPrices(self, tickerStringList, period):\n",
        "    data = yf.download(tickerStringList, group_by=\"Ticker\", period=period)\n",
        "    data = data.iloc[:, data.columns.get_level_values(1)==\"Close\"]\n",
        "    data = data.dropna()\n",
        "    data.columns = data.columns.droplevel(1)\n",
        "    return data\n",
        "\n",
        "  def printPortfolio(self):\n",
        "    print(\"Portfolio Name: \" + self.name)\n",
        "    print(\"Risk Bucket: \" + str(self.riskBucket))\n",
        "    print(\"Expected Return: \" + str(self.expectedReturn))\n",
        "    print(\"Expected Risk: \" + str(self.expectedRisk))\n",
        "    print(\"Allocations: \")\n",
        "    for allocation in self.allocations:\n",
        "      print(\"Ticker: \" + allocation.ticker + \", Percentage: \" + str(allocation.percentage))\n",
        "\n",
        "  @staticmethod\n",
        "  def getPortfolioMapping(riskToleranceScore, riskCapacityScore):\n",
        "    import pandas as pd\n",
        "    allocationLookupTable=pd.read_csv('Risk Mapping Lookup.csv')\n",
        "    matchTol = (allocationLookupTable['Tolerance_min'] <= riskTolScore) & (allocationLookupTable['Tolerance_max'] >= riskTolScore)\n",
        "    matchCap = (allocationLookupTable['Capacity_min'] <= riskCapScore) & (allocationLookupTable['Capacity_max'] >= riskCapScore)\n",
        "    portfolioID = allocationLookupTable['Portfolio'][(matchTol & matchCap)]\n",
        "    return portfolioID.values[0]\n",
        "\n",
        "class Projection:\n",
        "    def __init__(self, expectedReturn: float, expectedRisk: float, initialInvestment: float, monthlyInvestment: float, years: int):\n",
        "        df = pd.DataFrame(columns=['date', 'lowValue', 'value', 'highValue'])\n",
        "\n",
        "        for year in range(years + 1):\n",
        "            newValue = self.returnProjection(expectedReturn, initialInvestment, monthlyInvestment, year)\n",
        "            newValueLower = self.returnProjection(expectedReturn - expectedRisk, initialInvestment, monthlyInvestment, year)\n",
        "            newValueUpper = self.returnProjection(expectedReturn + expectedRisk, initialInvestment, monthlyInvestment, year)\n",
        "            newDate = date.today().replace(year=date.today().year + year)\n",
        "            df = pd.concat([df, pd.DataFrame({'date': [newDate], 'lowValue': [newValueLower], 'value': [newValue], 'highValue': [newValueUpper]})])\n",
        "\n",
        "        df = df.set_index(pd.DatetimeIndex(df['date']))\n",
        "        self.data = df.drop(columns=\"date\")\n",
        "\n",
        "    @staticmethod\n",
        "    def returnProjection(expectedReturn, initialInvestment, monthlyInvestment, years):\n",
        "        valuePrincipal = initialInvestment * pow(1 + expectedReturn / 12, (years * 12))\n",
        "        valueMonthly = monthlyInvestment * (pow(1 + expectedReturn / 12, (years * 12)) - 1) / (expectedReturn / 12)\n",
        "        return valuePrincipal + valueMonthly\n",
        "\n",
        "    def visualize(self, targetAmount: float = 0.0):\n",
        "        fig, ax = plt.subplots()\n",
        "        ax.plot(self.data.index, self.data['highValue'], label=\"High\")\n",
        "        ax.plot(self.data.index, self.data['value'], label=\"Expected\")\n",
        "        ax.plot(self.data.index, self.data['lowValue'], label=\"Low\")\n",
        "        ax.set_ylabel('Portfolio Value (USD)')\n",
        "        plt.legend(loc=\"upper left\")\n",
        "        if targetAmount > 0:\n",
        "            plt.axhline(y=targetAmount, color='r', linestyle='--', label=\"Target\")\n",
        "            plt.legend()\n",
        "        plt.show()\n",
        "\n",
        "class Goal:\n",
        "  def __init__(self, name, targetYear, targetValue, initialContribution=0, monthlyContribution=0, priority=\"\"):\n",
        "    self.name = name\n",
        "    self.targetYear = targetYear\n",
        "    self.targetValue = targetValue\n",
        "    self.initialContribution = initialContribution\n",
        "    self.monthlyContribution = monthlyContribution\n",
        "    if not (priority == \"\") and not (priority in [\"Dreams\", \"Wishes\", \"Wants\", \"Needs\"]):\n",
        "            raise ValueError('Wrong value set for Priority.')\n",
        "    self.priority = priority\n",
        "\n",
        "  def getGoalProbabilities(self):\n",
        "    if (self.priority == \"\"):\n",
        "            raise ValueError('No value set for Priority.')\n",
        "    import pandas as pd\n",
        "    lookupTable=pd.read_csv('Goal Probability Table.csv')\n",
        "    match = (lookupTable['Realize'] == self.priority)\n",
        "    minProb = lookupTable['MinP'][(match)]\n",
        "    maxProb = lookupTable['MaxP'][(match)]\n",
        "    return minProb.values[0], maxProb.values[0]\n",
        "  def goalProbabilityForAmount(goalAmount, expectedReturn, portfolioRisk, years, initialInvestment, monthlyInvestment) -> float:\n",
        "   import scipy.stats as st\n",
        "   import math as math\n",
        "   std = portfolioRisk/math.sqrt(years)\n",
        "   amount = 0\n",
        "   minReturn = 0.00\n",
        "   while (amount < goalAmount):\n",
        "    minReturn = minReturn + 0.0000001\n",
        "    amount = Projection.returnProjection(minReturn, initialInvestment, monthlyInvestment, years)\n",
        "    z_score = (minReturn-expectedReturn)/std\n",
        "    return 1-st.norm.cdf(z_score)"
      ],
      "metadata": {
        "colab": {
          "base_uri": "https://localhost:8080/"
        },
        "id": "8l6TGH0rDEZe",
        "outputId": "9a85a6e4-907c-44b5-9afc-4b9bbd09d782"
      },
      "execution_count": null,
      "outputs": [
        {
          "output_type": "stream",
          "name": "stdout",
          "text": [
            "Welcome to the Robo-Advisor!\n"
          ]
        }
      ]
    },
    {
      "cell_type": "code",
      "source": [
        "# Define portfolios for different risk buckets\n",
        "portfolio1 = Portfolio(\"SPY TLT AAPL AMZN NFLX GOOGL MSFT\", expectedReturn=0.03, portfolioName=\"Conservative\", riskBucket=1)\n",
        "portfolio2 = Portfolio(\"SPY TLT AAPL AMZN NFLX GOOGL MSFT\", expectedReturn=0.04, portfolioName=\"Moderate Conservative\", riskBucket=2)\n",
        "portfolio3 = Portfolio(\"SPY TLT AAPL AMZN NFLX GOOGL MSFT\", expectedReturn=0.06, portfolioName=\"Balanced\", riskBucket=3)\n",
        "portfolio4 = Portfolio(\"SPY TLT AAPL AMZN NFLX GOOGL MSFT\", expectedReturn=0.08, portfolioName=\"Growth\", riskBucket=4)\n",
        "portfolio5 = Portfolio(\"SPY TLT AAPL AMZN NFLX GOOGL MSFT\", expectedReturn=0.10, portfolioName=\"Aggressive Growth\", riskBucket=5)\n",
        "\n",
        "# Print portfolio details for each risk bucket\n",
        "print(\"\\n--- Portfolio Recommendations ---\\n\")\n",
        "portfolio1.printPortfolio()\n",
        "print(\"\\n\")\n",
        "portfolio2.printPortfolio()\n",
        "print(\"\\n\")\n",
        "portfolio3.printPortfolio()\n",
        "print(\"\\n\")\n",
        "portfolio4.printPortfolio()\n",
        "print(\"\\n\")\n",
        "portfolio5.printPortfolio()\n"
      ],
      "metadata": {
        "colab": {
          "base_uri": "https://localhost:8080/"
        },
        "id": "GPz0XScOUiX_",
        "outputId": "c83afc0f-c2dd-457e-bff8-6ac329042569"
      },
      "execution_count": null,
      "outputs": [
        {
          "output_type": "stream",
          "name": "stderr",
          "text": [
            "[*********************100%***********************]  7 of 7 completed\n",
            "[*********************100%***********************]  7 of 7 completed\n",
            "[*********************100%***********************]  7 of 7 completed\n",
            "[*********************100%***********************]  7 of 7 completed\n",
            "[*********************100%***********************]  7 of 7 completed"
          ]
        },
        {
          "output_type": "stream",
          "name": "stdout",
          "text": [
            "\n",
            "--- Portfolio Recommendations ---\n",
            "\n",
            "Portfolio Name: Conservative\n",
            "Risk Bucket: 1\n",
            "Expected Return: 0.03\n",
            "Expected Risk: 0.10303445688568723\n",
            "Allocations: \n",
            "Ticker: GOOGL, Percentage: 0.0\n",
            "Ticker: AAPL, Percentage: 0.0\n",
            "Ticker: AMZN, Percentage: 0.0\n",
            "Ticker: NFLX, Percentage: 0.0\n",
            "Ticker: SPY, Percentage: 0.44178\n",
            "Ticker: TLT, Percentage: 0.55822\n",
            "Ticker: MSFT, Percentage: 0.0\n",
            "\n",
            "\n",
            "Portfolio Name: Moderate Conservative\n",
            "Risk Bucket: 2\n",
            "Expected Return: 0.04\n",
            "Expected Risk: 0.10303451158497859\n",
            "Allocations: \n",
            "Ticker: AAPL, Percentage: 0.0\n",
            "Ticker: GOOGL, Percentage: 0.0\n",
            "Ticker: NFLX, Percentage: 0.0\n",
            "Ticker: AMZN, Percentage: 0.0\n",
            "Ticker: SPY, Percentage: 0.44178\n",
            "Ticker: MSFT, Percentage: 0.0\n",
            "Ticker: TLT, Percentage: 0.55822\n",
            "\n",
            "\n",
            "Portfolio Name: Balanced\n",
            "Risk Bucket: 3\n",
            "Expected Return: 0.06\n",
            "Expected Risk: 0.10452632810755064\n",
            "Allocations: \n",
            "Ticker: GOOGL, Percentage: 0.0\n",
            "Ticker: AAPL, Percentage: 0.0\n",
            "Ticker: NFLX, Percentage: 0.00702\n",
            "Ticker: AMZN, Percentage: 0.00298\n",
            "Ticker: TLT, Percentage: 0.50012\n",
            "Ticker: SPY, Percentage: 0.48987\n",
            "Ticker: MSFT, Percentage: 0.0\n",
            "\n",
            "\n",
            "Portfolio Name: Growth\n",
            "Risk Bucket: 4\n",
            "Expected Return: 0.08\n",
            "Expected Risk: 0.11078327791650598\n",
            "Allocations: \n",
            "Ticker: AAPL, Percentage: 0.02993\n",
            "Ticker: GOOGL, Percentage: 0.0\n",
            "Ticker: AMZN, Percentage: 0.03114\n",
            "Ticker: NFLX, Percentage: 0.01925\n",
            "Ticker: SPY, Percentage: 0.42318\n",
            "Ticker: TLT, Percentage: 0.46837\n",
            "Ticker: MSFT, Percentage: 0.02813\n",
            "\n",
            "\n",
            "Portfolio Name: Aggressive Growth\n",
            "Risk Bucket: 5\n",
            "Expected Return: 0.1\n",
            "Expected Risk: 0.11935817241150683\n",
            "Allocations: \n",
            "Ticker: GOOGL, Percentage: 0.0\n",
            "Ticker: AAPL, Percentage: 0.05986\n",
            "Ticker: AMZN, Percentage: 0.05373\n",
            "Ticker: NFLX, Percentage: 0.03015\n",
            "Ticker: SPY, Percentage: 0.34578\n",
            "Ticker: TLT, Percentage: 0.44043\n",
            "Ticker: MSFT, Percentage: 0.07005\n"
          ]
        },
        {
          "output_type": "stream",
          "name": "stderr",
          "text": [
            "\n"
          ]
        }
      ]
    },
    {
      "cell_type": "code",
      "source": [
        "#Efficient Frontier with Balanced Growth Portfolio\n",
        "import matplotlib.pyplot as plt\n",
        "from pypfopt.efficient_frontier import EfficientFrontier\n",
        "from pypfopt import risk_models, expected_returns\n",
        "from pypfopt.discrete_allocation import get_latest_prices\n",
        "\n",
        "tickers = \"SPY TLT AAPL AMZN NFLX GOOGL MSFT\"\n",
        "#Get data for plotting the Efficient Frontier\n",
        "df = portfolio5._Portfolio__getDailyPrices(tickers, \"10y\")\n",
        "mu = expected_returns.mean_historical_return(df)\n",
        "S = risk_models.sample_cov(df)\n",
        "ef = EfficientFrontier(mu, S)\n",
        "\n",
        "# Generate points for the Efficient Frontier\n",
        "risk_free_rate = 0.02  # Example risk-free rate\n",
        "returns = []\n",
        "risks = []\n",
        "\n",
        "for target_return in [0.02, 0.04, 0.06, 0.08, 0.10]:\n",
        "    ef.efficient_return(target_return)\n",
        "    ret, vol, _ = ef.portfolio_performance()\n",
        "    returns.append(ret)\n",
        "    risks.append(vol)\n",
        "\n",
        "# Step 4: Visualize the Efficient Frontier\n",
        "fig, ax = plt.subplots(figsize=(10, 6))\n",
        "ax.plot(risks, returns, marker='o', label=\"Efficient Frontier\")\n",
        "\n",
        "# Highlight Balanced Growth Portfolio\n",
        "plt.scatter(portfolio3.expectedRisk, portfolio3.expectedReturn, marker=\"*\", color=\"red\", s=200, label=\"Balanced Growth Portfolio (Risk Bucket 3)\")\n",
        "\n",
        "plt.title(\"Efficient Frontier with Balanced Growth Portfolio\")\n",
        "plt.xlabel(\"Volatility (Risk)\")\n",
        "plt.ylabel(\"Expected Return\")\n",
        "plt.legend(loc=\"upper left\")\n",
        "plt.grid()\n",
        "plt.show()"
      ],
      "metadata": {
        "colab": {
          "base_uri": "https://localhost:8080/",
          "height": 581
        },
        "id": "rz-z5-Uw6iUO",
        "outputId": "459ec7d9-76dc-4211-9361-27d94679ac36"
      },
      "execution_count": null,
      "outputs": [
        {
          "output_type": "stream",
          "name": "stderr",
          "text": [
            "[*********************100%***********************]  7 of 7 completed\n"
          ]
        },
        {
          "output_type": "display_data",
          "data": {
            "text/plain": [
              "<Figure size 1000x600 with 1 Axes>"
            ],
            "image/png": "[encoded data removed]"
          },
          "metadata": {}
        }
      ]
    },
    {
      "cell_type": "code",
      "source": [
        "#Risk questionnaire\n",
        "print(\"\\nStep 1: Complete the Risk Questionnaire\")\n",
        "questionsFileName = 'Risk Questions.csv'\n",
        "answersFileName = 'Risk Answers.csv'\n",
        "\n",
        "toleranceQuestionnaire = RiskQuestionnaire()\n",
        "toleranceQuestionnaire.loadQuestionnaire(questionsFileName, answersFileName, \"Tolerance\")\n",
        "\n",
        "capacityQuestionnaire = RiskQuestionnaire()\n",
        "capacityQuestionnaire.loadQuestionnaire(questionsFileName, answersFileName, \"Capacity\")\n",
        "\n",
        "toleranceQuestionnaire.answerQuestionnaire()\n",
        "capacityQuestionnaire.answerQuestionnaire()\n",
        "toleranceQuestionnaire.calculateScore()\n",
        "capacityQuestionnaire.calculateScore()\n",
        "riskTolScore = toleranceQuestionnaire.score\n",
        "riskCapScore = capacityQuestionnaire.score"
      ],
      "metadata": {
        "colab": {
          "base_uri": "https://localhost:8080/"
        },
        "id": "iuGhPQEFhvic",
        "outputId": "dad5464c-e98f-47f1-aa12-2e7737a277bb"
      },
      "execution_count": null,
      "outputs": [
        {
          "output_type": "stream",
          "name": "stdout",
          "text": [
            "\n",
            "Step 1: Complete the Risk Questionnaire\n",
            "In general, how would your best friend describe you as a risk taker?\n",
            "0: A real gambler\n",
            "1: Willing to take risks after completing adequate research\n",
            "2: Cautious\n",
            "3: A real risk avoider\n",
            "Choose your answer between 0 and 3: 0\n",
            "\n",
            "\n",
            "You are on a TV game show and can choose one of the following. Which would you take?\n",
            "0: $1,000 in cash\n",
            "1: A 50% chance at winning $5,000\n",
            "2: A 25% chance at winning $10,000\n",
            "3: A 5% chance at winning $100,000\n",
            "Choose your answer between 0 and 3: 2\n",
            "\n",
            "\n",
            "When you think of the word risk which of the following words comes to mind first?\n",
            "0: Loss\n",
            "1: Uncertainty\n",
            "2: Opportunity\n",
            "3: Thrill\n",
            "Choose your answer between 0 and 3: 2\n",
            "\n",
            "\n",
            "You are able to save money regularly.\n",
            "0: Completely false\n",
            "1: Somewhat true\n",
            "2: Completely true\n",
            "Choose your answer between 0 and 2: 1\n",
            "\n",
            "\n",
            "You can pay all your monthly bills on time -- including any credit card or other debt.\n",
            "0: Completely false\n",
            "1: Somewhat true\n",
            "2: Completely true\n",
            "Choose your answer between 0 and 2: 1\n",
            "\n",
            "\n",
            "If you lose money investing today, your current lifestyle would not be impacted.\n",
            "0: Completely false\n",
            "1: Somewhat true\n",
            "2: Completely true\n",
            "Choose your answer between 0 and 2: 1\n",
            "\n",
            "\n",
            "You do not need to draw down more than 5% of your investment portfolio for any major financial goal in the next five years.\n",
            "0: Completely false\n",
            "1: Somewhat true\n",
            "2: Completely true\n",
            "Choose your answer between 0 and 2: 1\n",
            "\n",
            "\n",
            "Risk Score:\n",
            "A real gambler: 8\n",
            "A 25% chance at winning $10,000: 3\n",
            "Opportunity: 3\n",
            "Total Risk Score: 14\n",
            "\n",
            "Risk Score:\n",
            "Somewhat true: 2\n",
            "Somewhat true: 2\n",
            "Somewhat true: 2\n",
            "Somewhat true: 2\n",
            "Total Risk Score: 8\n",
            "\n"
          ]
        }
      ]
    },
    {
      "source": [
        "portfolio_id = Portfolio.getPortfolioMapping(riskTolScore, riskCapScore)\n",
        "print(f\"Recommended Portfolio ID: {portfolio_id}\")"
      ],
      "cell_type": "code",
      "metadata": {
        "colab": {
          "base_uri": "https://localhost:8080/"
        },
        "id": "EKuJQX_uL1LB",
        "outputId": "fae1b99c-d31c-476b-850d-9c0a5c28e6d6"
      },
      "execution_count": null,
      "outputs": [
        {
          "output_type": "stream",
          "name": "stdout",
          "text": [
            "Recommended Portfolio ID: 3\n"
          ]
        }
      ]
    },
    {
      "cell_type": "code",
      "source": [
        "#Goal setting\n",
        "print(\"\\n Set Your Goals\")\n",
        "myGoal = Goal(\"Retirement\",\n",
        "              targetYear=2041,\n",
        "              targetValue=3000000,\n",
        "              initialContribution=50000,\n",
        "              monthlyContribution=500,\n",
        "              priority=\"Wishes\")\n",
        "print(f\"Goal: {myGoal.name}, Target Year: {myGoal.targetYear}, Target Value: ${myGoal.targetValue}\")\n"
      ],
      "metadata": {
        "colab": {
          "base_uri": "https://localhost:8080/"
        },
        "id": "f0eKCxGwR29Q",
        "outputId": "5885359f-ab7b-4333-925f-f5eeaa4eb729"
      },
      "execution_count": null,
      "outputs": [
        {
          "output_type": "stream",
          "name": "stdout",
          "text": [
            "\n",
            " Set Your Goals\n",
            "Goal: Retirement, Target Year: 2041, Target Value: $3000000\n"
          ]
        }
      ]
    },
    {
      "cell_type": "code",
      "source": [
        "myPortfolio = Portfolio(\"VTI TLT IEI GLD DBC\", expectedReturn = 0.06, portfolioName = \"Moderate Growth\", riskBucket =portfolio_id )\n",
        "myPortfolio.printPortfolio()"
      ],
      "metadata": {
        "colab": {
          "base_uri": "https://localhost:8080/"
        },
        "id": "18VXGX6fcU3m",
        "outputId": "b3cf3ca4-c20f-4ca1-eafd-b520905e4dfc"
      },
      "execution_count": null,
      "outputs": [
        {
          "output_type": "stream",
          "name": "stderr",
          "text": [
            "[*********************100%***********************]  5 of 5 completed\n"
          ]
        },
        {
          "output_type": "stream",
          "name": "stdout",
          "text": [
            "Portfolio Name: Moderate Growth\n",
            "Risk Bucket: 3\n",
            "Expected Return: 0.06\n",
            "Expected Risk: 0.06827002773485596\n",
            "Allocations: \n",
            "Ticker: GLD, Percentage: 0.21242\n",
            "Ticker: IEI, Percentage: 0.48108\n",
            "Ticker: DBC, Percentage: 0.0\n",
            "Ticker: TLT, Percentage: 0.0\n",
            "Ticker: VTI, Percentage: 0.3065\n"
          ]
        }
      ]
    },
    {
      "cell_type": "code",
      "source": [
        "# Projection\n",
        "from datetime import date\n",
        "yearsToGoal = myGoal.targetYear - date.today().year\n",
        "myProjection = Projection(myPortfolio.expectedReturn,\n",
        "                          expectedRisk=myPortfolio.expectedRisk,\n",
        "                          initialInvestment=myGoal.initialContribution,\n",
        "                          monthlyInvestment=myGoal.monthlyContribution,\n",
        "                          years=yearsToGoal)\n",
        "myProjection.visualize(myGoal.targetValue)"
      ],
      "metadata": {
        "colab": {
          "base_uri": "https://localhost:8080/",
          "height": 500
        },
        "id": "-kVltXOB6MwQ",
        "outputId": "be878b7f-63e8-4696-c75e-d73b719ffda9"
      },
      "execution_count": null,
      "outputs": [
        {
          "output_type": "stream",
          "name": "stderr",
          "text": [
            "<ipython-input-29-81fd14b276d2>:148: FutureWarning: The behavior of DataFrame concatenation with empty or all-NA entries is deprecated. In a future version, this will no longer exclude empty or all-NA columns when determining the result dtypes. To retain the old behavior, exclude the relevant entries before the concat operation.\n",
            "  df = pd.concat([df, pd.DataFrame({'date': [newDate], 'lowValue': [newValueLower], 'value': [newValue], 'highValue': [newValueUpper]})])\n"
          ]
        },
        {
          "output_type": "display_data",
          "data": {
            "text/plain": [
              "<Figure size 640x480 with 1 Axes>"
            ],
            "image/png": "[encoded data removed]"
          },
          "metadata": {}
        }
      ]
    },
    {
      "cell_type": "code",
      "source": [
        "# Check if goal amount is achieved with expectedReturns by goalTimeline\n",
        "import pandas as pd\n",
        "def checkGoalPlausible(df: pd.DataFrame, goalValue) -> bool:\n",
        "  maxValue = df['value'].max()\n",
        "  if maxValue >= goalValue:\n",
        "    return True\n",
        "  else:\n",
        "    return False"
      ],
      "metadata": {
        "id": "hi5R3aNc-XmA"
      },
      "execution_count": null,
      "outputs": []
    },
    {
      "cell_type": "code",
      "source": [
        "checkGoalPlausible(myProjection.data, myGoal.targetValue)"
      ],
      "metadata": {
        "colab": {
          "base_uri": "https://localhost:8080/"
        },
        "id": "gT5m_tLYBv0A",
        "outputId": "24e14dce-91ab-483f-fe51-7e359b77df0f"
      },
      "execution_count": null,
      "outputs": [
        {
          "output_type": "execute_result",
          "data": {
            "text/plain": [
              "False"
            ]
          },
          "metadata": {},
          "execution_count": 38
        }
      ]
    },
    {
      "cell_type": "code",
      "source": [
        "import scipy.stats as st\n",
        "import math as math\n",
        "\n",
        "minReturn = 0.022\n",
        "avgReturn = 0.05\n",
        "avgRisk = 0.07\n",
        "timeHorizon = 10\n",
        "std = avgRisk/math.sqrt(timeHorizon)\n",
        "print(std)\n",
        "\n",
        "z_score = (minReturn-avgReturn)/std\n",
        "print(z_score)\n",
        "print(1-st.norm.cdf(z_score))\n"
      ],
      "metadata": {
        "colab": {
          "base_uri": "https://localhost:8080/"
        },
        "id": "2aW9aMD7CJx_",
        "outputId": "b1035428-0a3a-48b6-b9c1-2a574715ed4c"
      },
      "execution_count": null,
      "outputs": [
        {
          "output_type": "stream",
          "name": "stdout",
          "text": [
            "0.022135943621178655\n",
            "-1.264911064067352\n",
            "0.8970483946339659\n"
          ]
        }
      ]
    },
    {
      "cell_type": "code",
      "source": [
        "myGoal.getGoalProbabilities()"
      ],
      "metadata": {
        "colab": {
          "base_uri": "https://localhost:8080/"
        },
        "id": "SfiL-oUKDJAH",
        "outputId": "a6e84db0-da26-4a29-d95e-561bd8352fed"
      },
      "execution_count": null,
      "outputs": [
        {
          "output_type": "execute_result",
          "data": {
            "text/plain": [
              "(0.65, 0.79)"
            ]
          },
          "metadata": {},
          "execution_count": 40
        }
      ]
    },
    {
      "cell_type": "code",
      "source": [
        "goalProbabilityForAmount(myGoal.targetValue,\n",
        "                         myPortfolio.expectedReturn,\n",
        "                         myPortfolio.expectedRisk,\n",
        "                         yearsToGoal,\n",
        "                         myGoal.initialContribution,\n",
        "                         myGoal.monthlyContribution)"
      ],
      "metadata": {
        "colab": {
          "base_uri": "https://localhost:8080/"
        },
        "id": "qO-yJSpPD42J",
        "outputId": "3d2200ea-34ef-44a9-804c-415f3c51c135"
      },
      "execution_count": null,
      "outputs": [
        {
          "output_type": "execute_result",
          "data": {
            "text/plain": [
              "0.0"
            ]
          },
          "metadata": {},
          "execution_count": 41
        }
      ]
    },
    {
      "cell_type": "code",
      "source": [
        "\n",
        "def calculateMonthlyMinimum(expectedReturn, initialInvestment, years, goalAmount) -> float:\n",
        "  monthlyInvestment = (goalAmount - (initialInvestment * pow(1 + expectedReturn/12, (years*12))))/((pow(1 + expectedReturn/12, (years*12))-1)/(expectedReturn/12))\n",
        "  return monthlyInvestment"
      ],
      "metadata": {
        "id": "bmnCktiYD_JR"
      },
      "execution_count": null,
      "outputs": []
    },
    {
      "cell_type": "code",
      "source": [
        "calculateMonthlyMinimum(myPortfolio.expectedReturn,\n",
        "                        myGoal.initialContribution,\n",
        "                        yearsToGoal,\n",
        "                        myGoal.targetValue)"
      ],
      "metadata": {
        "colab": {
          "base_uri": "https://localhost:8080/"
        },
        "id": "tVXRVtTYEFDp",
        "outputId": "53a6e154-9005-434f-80a6-fd17811579fc"
      },
      "execution_count": null,
      "outputs": [
        {
          "output_type": "execute_result",
          "data": {
            "text/plain": [
              "8937.416984611422"
            ]
          },
          "metadata": {},
          "execution_count": 43
        }
      ]
    },
    {
      "cell_type": "code",
      "source": [
        "myGoal.monthlyContribution = calculateMonthlyMinimum(myPortfolio.expectedReturn,\n",
        "                                                     myGoal.initialContribution,\n",
        "                                                     yearsToGoal,\n",
        "                                                     myGoal.targetValue)\n",
        "\n",
        "goalProbabilityForAmount(myGoal.targetValue,\n",
        "                         myPortfolio.expectedReturn,\n",
        "                         myPortfolio.expectedRisk,\n",
        "                         yearsToGoal,\n",
        "                         myGoal.initialContribution,\n",
        "                         myGoal.monthlyContribution)"
      ],
      "metadata": {
        "colab": {
          "base_uri": "https://localhost:8080/"
        },
        "id": "cK2tW8iNEKjw",
        "outputId": "43cb3c30-28d3-43be-bb96-d3e5beff6e91"
      },
      "execution_count": null,
      "outputs": [
        {
          "output_type": "execute_result",
          "data": {
            "text/plain": [
              "0.49999999998374545"
            ]
          },
          "metadata": {},
          "execution_count": 44
        }
      ]
    },
    {
      "cell_type": "code",
      "source": [
        "myProjection = Projection(myPortfolio.expectedReturn,\n",
        "                          myPortfolio.expectedRisk,\n",
        "                          myGoal.initialContribution,\n",
        "                          myGoal.monthlyContribution,\n",
        "                          yearsToGoal)\n",
        "myProjection.visualize(myGoal.targetValue)"
      ],
      "metadata": {
        "colab": {
          "base_uri": "https://localhost:8080/",
          "height": 500
        },
        "id": "aqrc32ClEPnN",
        "outputId": "f9cc5a60-6c21-48dd-8877-e33bd84329a6"
      },
      "execution_count": null,
      "outputs": [
        {
          "output_type": "stream",
          "name": "stderr",
          "text": [
            "<ipython-input-29-81fd14b276d2>:148: FutureWarning: The behavior of DataFrame concatenation with empty or all-NA entries is deprecated. In a future version, this will no longer exclude empty or all-NA columns when determining the result dtypes. To retain the old behavior, exclude the relevant entries before the concat operation.\n",
            "  df = pd.concat([df, pd.DataFrame({'date': [newDate], 'lowValue': [newValueLower], 'value': [newValue], 'highValue': [newValueUpper]})])\n"
          ]
        },
        {
          "output_type": "display_data",
          "data": {
            "text/plain": [
              "<Figure size 640x480 with 1 Axes>"
            ],
            "image/png": "[encoded data removed]"
          },
          "metadata": {}
        }
      ]
    },
    {
      "cell_type": "code",
      "source": [
        "goalProbabilityForAmount(myGoal.targetValue,\n",
        "                         myPortfolio.expectedReturn,\n",
        "                         myPortfolio.expectedRisk,\n",
        "                         yearsToGoal+2,\n",
        "                         myGoal.initialContribution,\n",
        "                         myGoal.monthlyContribution)"
      ],
      "metadata": {
        "colab": {
          "base_uri": "https://localhost:8080/"
        },
        "id": "oU8ED6l-EY0N",
        "outputId": "0d986b8c-0520-4cce-8811-d212643f7533"
      },
      "execution_count": null,
      "outputs": [
        {
          "output_type": "execute_result",
          "data": {
            "text/plain": [
              "0.8613668759427402"
            ]
          },
          "metadata": {},
          "execution_count": 46
        }
      ]
    },
    {
      "cell_type": "code",
      "source": [
        "myProjection = Projection(myPortfolio.expectedReturn,\n",
        "                          myPortfolio.expectedRisk,\n",
        "                          myGoal.initialContribution,\n",
        "                          myGoal.monthlyContribution,\n",
        "                          yearsToGoal+2)\n",
        "myProjection.visualize(myGoal.targetValue)"
      ],
      "metadata": {
        "colab": {
          "base_uri": "https://localhost:8080/",
          "height": 500
        },
        "id": "bWYhkyKREdko",
        "outputId": "e2fa9f77-039a-4371-bed5-21ca25b798ae"
      },
      "execution_count": null,
      "outputs": [
        {
          "output_type": "stream",
          "name": "stderr",
          "text": [
            "<ipython-input-29-81fd14b276d2>:148: FutureWarning: The behavior of DataFrame concatenation with empty or all-NA entries is deprecated. In a future version, this will no longer exclude empty or all-NA columns when determining the result dtypes. To retain the old behavior, exclude the relevant entries before the concat operation.\n",
            "  df = pd.concat([df, pd.DataFrame({'date': [newDate], 'lowValue': [newValueLower], 'value': [newValue], 'highValue': [newValueUpper]})])\n"
          ]
        },
        {
          "output_type": "display_data",
          "data": {
            "text/plain": [
              "<Figure size 640x480 with 1 Axes>"
            ],
            "image/png": "[encoded data removed]"
          },
          "metadata": {}
        }
      ]
    },
    {
      "cell_type": "code",
      "source": [],
      "metadata": {
        "id": "6ExW6jW29R6g"
      },
      "execution_count": null,
      "outputs": []
    }
  ]
}